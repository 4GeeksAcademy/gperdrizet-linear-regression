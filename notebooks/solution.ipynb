{
 "cells": [
  {
   "cell_type": "markdown",
   "metadata": {},
   "source": [
    "# Linear regression: health insurance cost\n",
    "\n",
    "## Notebook setup\n",
    "\n",
    "Handle imports of necessary modules up-front."
   ]
  },
  {
   "cell_type": "code",
   "execution_count": null,
   "metadata": {},
   "outputs": [],
   "source": [
    "# Standard library imports\n",
    "from pathlib import Path\n",
    "\n",
    "# Third-party imports\n",
    "import pandas as pd\n",
    "import matplotlib.pyplot as plt\n",
    "import seaborn as sns\n",
    "from sklearn.metrics import root_mean_squared_error, r2_score\n",
    "from sklearn.preprocessing import OneHotEncoder, StandardScaler, PolynomialFeatures\n",
    "from sklearn.model_selection import train_test_split\n",
    "from sklearn.linear_model import LinearRegression\n",
    "\n",
    "# Custom functions for this notebook\n",
    "import helper_functions as funcs"
   ]
  },
  {
   "cell_type": "markdown",
   "metadata": {
    "vscode": {
     "languageId": "plaintext"
    }
   },
   "source": [
    "## 1. Data loading\n",
    "\n",
    "### 1.1. Load"
   ]
  },
  {
   "cell_type": "code",
   "execution_count": null,
   "metadata": {},
   "outputs": [],
   "source": [
    "data_url = 'https://raw.githubusercontent.com/4GeeksAcademy/linear-regression-project-tutorial/main/medical_insurance_cost.csv'\n",
    "data_df = pd.read_csv(data_url, sep=',')"
   ]
  },
  {
   "cell_type": "markdown",
   "metadata": {},
   "source": [
    "### 1.2. Save local copy"
   ]
  },
  {
   "cell_type": "code",
   "execution_count": null,
   "metadata": {},
   "outputs": [],
   "source": [
    "# Make a directory for raw data\n",
    "Path('../data/raw').mkdir(exist_ok=True, parents=True)\n",
    "\n",
    "# Save a local copy of the raw data\n",
    "data_df.to_parquet('../data/raw/medical-insurance-cost.parquet')"
   ]
  },
  {
   "cell_type": "markdown",
   "metadata": {},
   "source": [
    "### 1.3. Inspect"
   ]
  },
  {
   "cell_type": "code",
   "execution_count": null,
   "metadata": {},
   "outputs": [],
   "source": [
    "data_df.head()"
   ]
  },
  {
   "cell_type": "code",
   "execution_count": null,
   "metadata": {},
   "outputs": [],
   "source": [
    "data_df.info()"
   ]
  },
  {
   "cell_type": "markdown",
   "metadata": {},
   "source": [
    "## 2. EDA"
   ]
  },
  {
   "cell_type": "markdown",
   "metadata": {},
   "source": [
    "### 2.1. Data composition\n",
    "\n",
    "#### 2.1.1. Interval features"
   ]
  },
  {
   "cell_type": "code",
   "execution_count": null,
   "metadata": {},
   "outputs": [],
   "source": [
    "interval_features=['age','bmi','children','charges']\n",
    "data_df[interval_features].describe()"
   ]
  },
  {
   "cell_type": "code",
   "execution_count": null,
   "metadata": {},
   "outputs": [],
   "source": [
    "fig, axs = plt.subplots(2,2, figsize=(6,6))\n",
    "axs = axs.flatten()\n",
    "\n",
    "fig.suptitle('Patient feature distributions')\n",
    "\n",
    "for i, feature in enumerate(interval_features):\n",
    "    axs[i].set_title(feature)\n",
    "    axs[i].hist(data_df[feature], color='black', bins=15)\n",
    "    axs[i].set_ylabel('Count')\n",
    "\n",
    "fig.tight_layout()\n",
    "fig.show()"
   ]
  },
  {
   "cell_type": "markdown",
   "metadata": {},
   "source": [
    "#### 2.1.2. Nominal features"
   ]
  },
  {
   "cell_type": "code",
   "execution_count": null,
   "metadata": {},
   "outputs": [],
   "source": [
    "nominal_features=['sex','smoker','region']\n",
    "level_counts = funcs.get_level_counts(data_df, nominal_features)\n",
    "level_counts.head(len(level_counts))"
   ]
  },
  {
   "cell_type": "code",
   "execution_count": null,
   "metadata": {},
   "outputs": [],
   "source": [
    "fig, axs = plt.subplots(1, 3, figsize=(10, 3))\n",
    "axs = axs.flatten()\n",
    "\n",
    "fig.suptitle('Patient feature level counts')\n",
    "\n",
    "for i, feature in enumerate(nominal_features):\n",
    "\n",
    "    level_counts = data_df[feature].value_counts()\n",
    "\n",
    "    axs[i].set_title(feature)\n",
    "    axs[i].bar(list(range(len(level_counts))), level_counts, tick_label=level_counts.index, color='black')\n",
    "    axs[i].tick_params(axis='x', labelrotation=45)\n",
    "    axs[i].set_ylabel('Customers')\n",
    "\n",
    "fig.tight_layout()\n",
    "fig.show()"
   ]
  },
  {
   "cell_type": "markdown",
   "metadata": {},
   "source": [
    "### 2.2. Feature interactions\n",
    "\n",
    "#### 2.2.1. Interval features vs label"
   ]
  },
  {
   "cell_type": "code",
   "execution_count": null,
   "metadata": {},
   "outputs": [],
   "source": [
    "interval_features = ['age', 'bmi', 'children']\n",
    "\n",
    "fig, axs = plt.subplots(1, 3, figsize=(10, 3))\n",
    "axs = axs.flatten()\n",
    "\n",
    "fig.suptitle('Interval features vs cost')\n",
    "\n",
    "for i, feature in enumerate(interval_features):\n",
    "\n",
    "    level_counts = data_df[feature].value_counts()\n",
    "\n",
    "    if feature != 'children':\n",
    "        axs[i].set_title(feature)\n",
    "        axs[i].scatter(data_df[feature], data_df['charges'], color='black')\n",
    "        axs[i].set_xlabel(feature)\n",
    "        axs[i].set_ylabel('Charges')\n",
    "\n",
    "    else:\n",
    "        sns.boxplot(data=data_df, x=feature, y='charges', ax=axs[i])\n",
    "        axs[i].set_title(feature)\n",
    "        axs[i].set_xlabel(feature)\n",
    "        axs[i].set_ylabel('Charges')\n",
    "\n",
    "fig.tight_layout()\n",
    "fig.show()"
   ]
  },
  {
   "cell_type": "markdown",
   "metadata": {},
   "source": [
    "#### 2.2.2. Nominal features vs label"
   ]
  },
  {
   "cell_type": "code",
   "execution_count": null,
   "metadata": {},
   "outputs": [],
   "source": [
    "fig, axs = plt.subplots(1, 3, figsize=(10, 3))\n",
    "axs = axs.flatten()\n",
    "\n",
    "fig.suptitle('Nominal features vs cost')\n",
    "\n",
    "for i, feature in enumerate(nominal_features):\n",
    "\n",
    "    sns.boxplot(data_df, x=feature, y='charges', ax=axs[i])\n",
    "    axs[i].tick_params(axis='x', labelrotation=45)\n",
    "    axs[i].set_xlabel(feature)\n",
    "    axs[i].set_ylabel('Charges')\n",
    "\n",
    "plt.tight_layout()\n",
    "plt.show()"
   ]
  },
  {
   "cell_type": "markdown",
   "metadata": {},
   "source": [
    "## 3. Data preparation\n",
    "\n",
    "### 3.1. Train-test split"
   ]
  },
  {
   "cell_type": "code",
   "execution_count": null,
   "metadata": {},
   "outputs": [],
   "source": [
    "training_df, testing_df = train_test_split(\n",
    "    data_df,\n",
    "    test_size=0.2\n",
    ")"
   ]
  },
  {
   "cell_type": "markdown",
   "metadata": {},
   "source": [
    "### 3.2. Feature encoding"
   ]
  },
  {
   "cell_type": "code",
   "execution_count": null,
   "metadata": {},
   "outputs": [],
   "source": [
    "encoder = OneHotEncoder(drop='first', sparse_output=False)\n",
    "encoder.fit(training_df[nominal_features])\n",
    "\n",
    "training_df = funcs.encode_features(\n",
    "    training_df,\n",
    "    encoder,\n",
    "    nominal_features\n",
    ")\n",
    "\n",
    "testing_df = funcs.encode_features(\n",
    "    testing_df,\n",
    "    encoder,\n",
    "    nominal_features\n",
    ")\n",
    "\n",
    "training_df.head()"
   ]
  },
  {
   "cell_type": "markdown",
   "metadata": {},
   "source": [
    "## 4. Model training"
   ]
  },
  {
   "cell_type": "code",
   "execution_count": null,
   "metadata": {},
   "outputs": [],
   "source": [
    "results = {\n",
    "    'RMSE': {},\n",
    "    'R2': {}\n",
    "}"
   ]
  },
  {
   "cell_type": "markdown",
   "metadata": {},
   "source": [
    "### 4.1. Baseline"
   ]
  },
  {
   "cell_type": "code",
   "execution_count": null,
   "metadata": {},
   "outputs": [],
   "source": [
    "mean_cost = training_df['charges'].mean()\n",
    "rmse = root_mean_squared_error(testing_df['charges'],[mean_cost]*len(testing_df))\n",
    "rsq = r2_score(testing_df['charges'],[mean_cost]*len(testing_df))\n",
    "\n",
    "results['RMSE']['Mean cost'] = rmse\n",
    "results['R2']['Mean cost'] = rsq\n",
    "print(f'Mean cost model RMSE: ${rmse:.2f}')\n",
    "print(f'Mean cost model R squared: ${rsq:.2f}')"
   ]
  },
  {
   "cell_type": "code",
   "execution_count": null,
   "metadata": {},
   "outputs": [],
   "source": [
    "linear_model = LinearRegression()\n",
    "linear_model.fit(training_df.drop(columns=['charges']), training_df['charges'])\n",
    "\n",
    "predictions = linear_model.predict(testing_df.drop(columns=['charges']))\n",
    "rmse = root_mean_squared_error(testing_df['charges'], predictions)\n",
    "rsq = r2_score(testing_df['charges'], predictions)\n",
    "\n",
    "results['RMSE']['Regression'] = rmse\n",
    "results['R2']['Regression'] = rsq\n",
    "print(f'Testing data predictions RMSE: ${rmse:.2f}')\n",
    "print(f'Testing data predictions R squared: {rsq:.2f}')"
   ]
  },
  {
   "cell_type": "code",
   "execution_count": null,
   "metadata": {},
   "outputs": [],
   "source": [
    "fig, axs = plt.subplots(1, 2, figsize=(7, 3.5))\n",
    "axs = axs.flatten()\n",
    "\n",
    "axs[0].set_title('Predicted vs actual charges')\n",
    "axs[0].scatter(testing_df['charges'], predictions, color='black')\n",
    "axs[0].set_xlabel('Actual charges')\n",
    "axs[0].set_ylabel('Predicted charges')\n",
    "\n",
    "axs[1].set_title('Residuals')\n",
    "axs[1].scatter(predictions, predictions - testing_df['charges'], color='black')\n",
    "axs[1].set_xlabel('Predicted charges')\n",
    "axs[1].set_ylabel('Residuals')\n",
    "\n",
    "plt.tight_layout()\n",
    "plt.show()"
   ]
  },
  {
   "cell_type": "markdown",
   "metadata": {},
   "source": [
    "## 4. Optimization\n",
    "\n",
    "### 4.1. Feature transformations"
   ]
  },
  {
   "cell_type": "code",
   "execution_count": null,
   "metadata": {},
   "outputs": [],
   "source": [
    "scaled_training_df = training_df.copy()\n",
    "scaled_testing_df = testing_df.copy()\n",
    "\n",
    "feature_transformer = StandardScaler().fit(training_df.drop(columns=['charges']))\n",
    "scaled_training_df[feature_transformer.feature_names_in_] = feature_transformer.transform(training_df[feature_transformer.feature_names_in_])\n",
    "scaled_testing_df[feature_transformer.feature_names_in_] = feature_transformer.transform(testing_df[feature_transformer.feature_names_in_])\n",
    "\n",
    "label_transformer = StandardScaler().fit(training_df['charges'].values.reshape(-1, 1))\n",
    "scaled_training_df['charges'] = label_transformer.transform(training_df['charges'].values.reshape(-1, 1))\n",
    "scaled_testing_df['charges'] = label_transformer.transform(testing_df['charges'].values.reshape(-1, 1))\n",
    "\n",
    "training_df.describe()"
   ]
  },
  {
   "cell_type": "code",
   "execution_count": null,
   "metadata": {},
   "outputs": [],
   "source": [
    "fig, axs = plt.subplots(2,2, figsize=(6,6))\n",
    "axs = axs.flatten()\n",
    "\n",
    "fig.suptitle('Patient feature distributions')\n",
    "\n",
    "for i, feature in enumerate(['age', 'bmi', 'children', 'charges']):\n",
    "    axs[i].set_title(feature)\n",
    "    axs[i].hist(scaled_training_df[feature], color='black', bins=15)\n",
    "    axs[i].set_ylabel('Count')\n",
    "\n",
    "fig.tight_layout()\n",
    "fig.show()"
   ]
  },
  {
   "cell_type": "code",
   "execution_count": null,
   "metadata": {},
   "outputs": [],
   "source": [
    "linear_model = LinearRegression()\n",
    "linear_model.fit(scaled_training_df.drop(columns=['charges']), scaled_training_df['charges'])\n",
    "\n",
    "predictions = linear_model.predict(scaled_testing_df.drop(columns=['charges']))\n",
    "predictions = label_transformer.inverse_transform(predictions.reshape(-1, 1))\n",
    "labels = label_transformer.inverse_transform(scaled_testing_df['charges'].values.reshape(-1, 1))\n",
    "rmse = root_mean_squared_error(labels, predictions)\n",
    "rsq = r2_score(labels, predictions)\n",
    "\n",
    "results['RMSE']['Scaled regression'] = rmse\n",
    "results['R2']['Scaled regression'] = rsq\n",
    "print(f'Testing data predictions RMSE: ${rmse:.2f}')\n",
    "print(f'Testing data predictions R squared: {rsq:.2f}')"
   ]
  },
  {
   "cell_type": "markdown",
   "metadata": {},
   "source": [
    "### 4.2. Feature engineering"
   ]
  },
  {
   "cell_type": "code",
   "execution_count": null,
   "metadata": {},
   "outputs": [],
   "source": [
    "engineered_training_df = training_df.copy()\n",
    "engineered_testing_df = testing_df.copy()\n",
    "\n",
    "engineered_training_df['charges'] = engineered_training_df['charges'].clip(upper=50000)\n",
    "engineered_training_df['age'] = engineered_training_df['age'] ** 2\n",
    "engineered_training_df['children'] = 1 / (engineered_training_df['children'] + 1)\n",
    "\n",
    "engineered_testing_df['charges'] = engineered_testing_df['charges'].clip(upper=50000)\n",
    "engineered_testing_df['age'] = engineered_testing_df['age'] ** 2\n",
    "engineered_testing_df['children'] = 1 / (engineered_testing_df['children'] + 1)"
   ]
  },
  {
   "cell_type": "code",
   "execution_count": null,
   "metadata": {},
   "outputs": [],
   "source": [
    "fig, axs = plt.subplots(2,2, figsize=(6,6))\n",
    "axs = axs.flatten()\n",
    "\n",
    "fig.suptitle('Patient feature distributions')\n",
    "\n",
    "for i, feature in enumerate(['age', 'bmi', 'children', 'charges']):\n",
    "    axs[i].set_title(feature)\n",
    "    axs[i].hist(engineered_training_df[feature], color='black', bins=15)\n",
    "    axs[i].set_ylabel('Count')\n",
    "\n",
    "fig.tight_layout()\n",
    "fig.show()"
   ]
  },
  {
   "cell_type": "code",
   "execution_count": null,
   "metadata": {},
   "outputs": [],
   "source": [
    "linear_model = LinearRegression()\n",
    "linear_model.fit(engineered_training_df.drop(columns=['charges']), engineered_training_df['charges'])\n",
    "\n",
    "predictions = linear_model.predict(engineered_testing_df.drop(columns=['charges']))\n",
    "labels = engineered_testing_df['charges'].values.reshape(-1, 1)\n",
    "rmse = root_mean_squared_error(labels, predictions)\n",
    "rsq = r2_score(labels, predictions)\n",
    "\n",
    "results['RMSE']['Engineered regression'] = rmse\n",
    "results['R2']['Engineered regression'] = rsq\n",
    "print(f'Testing data predictions RMSE: ${rmse:.2f}')\n",
    "print(f'Testing data predictions R squared: {rsq:.2f}')"
   ]
  },
  {
   "cell_type": "markdown",
   "metadata": {},
   "source": [
    "### 4.3. Synthetic features"
   ]
  },
  {
   "cell_type": "code",
   "execution_count": null,
   "metadata": {},
   "outputs": [],
   "source": [
    "poly_transformer = PolynomialFeatures(degree=4, include_bias=False)\n",
    "poly_transformer.fit(engineered_training_df.drop(columns=['charges']))\n",
    "poly_training_features = poly_transformer.transform(engineered_training_df.drop(columns=['charges']))\n",
    "poly_testing_features = poly_transformer.transform(engineered_testing_df.drop(columns=['charges']))\n",
    "\n",
    "poly_training_df = pd.DataFrame(poly_training_features, columns=poly_transformer.get_feature_names_out())\n",
    "poly_testing_df = pd.DataFrame(poly_testing_features, columns=poly_transformer.get_feature_names_out())\n",
    "\n",
    "poly_training_df['charges'] = engineered_training_df['charges'].values\n",
    "poly_testing_df['charges'] = engineered_testing_df['charges'].values\n",
    "\n",
    "poly_training_df.head().transpose()\n"
   ]
  },
  {
   "cell_type": "code",
   "execution_count": null,
   "metadata": {},
   "outputs": [],
   "source": [
    "linear_model = LinearRegression()\n",
    "linear_model.fit(poly_training_df.drop(columns=['charges']), poly_training_df['charges'])\n",
    "\n",
    "predictions = linear_model.predict(poly_testing_df.drop(columns=['charges']))\n",
    "labels = poly_testing_df['charges'].values.reshape(-1, 1)\n",
    "rmse = root_mean_squared_error(labels, predictions)\n",
    "rsq = r2_score(labels, predictions)\n",
    "\n",
    "results['RMSE']['Synthetic features regression'] = rmse\n",
    "results['R2']['Synthetic features regression'] = rsq\n",
    "print(f'Testing data predictions RMSE: ${rmse:.2f}')\n",
    "print(f'Testing data predictions R squared: {rsq:.2f}')"
   ]
  },
  {
   "cell_type": "markdown",
   "metadata": {},
   "source": [
    "### 4.4. Results"
   ]
  },
  {
   "cell_type": "code",
   "execution_count": null,
   "metadata": {},
   "outputs": [],
   "source": [
    "plt.figure(figsize=(10, 5))\n",
    "plt.barh(list(results['R2'].keys()), list(results['R2'].values()), color='black')\n",
    "plt.xlabel('R-squared')\n",
    "plt.title('Model performance comparison (R-squared)')\n",
    "plt.show()"
   ]
  },
  {
   "cell_type": "markdown",
   "metadata": {},
   "source": [
    "## 5. BONUS: split smoker/nonsmoker model"
   ]
  },
  {
   "cell_type": "code",
   "execution_count": null,
   "metadata": {},
   "outputs": [],
   "source": [
    "split_model = funcs.SplitModel(poly_training_df, poly_testing_df)\n",
    "split_model.fit()\n",
    "split_model.predict()\n",
    "rmse, rsq = split_model.evaluate()\n",
    "\n",
    "results['RMSE']['Split regression'] = rmse\n",
    "results['R2']['Split regression'] = rsq\n",
    "print(f'Testing data predictions RMSE: ${rmse:.2f}')\n",
    "print(f'Testing data predictions R squared: {rsq:.2f}')"
   ]
  },
  {
   "cell_type": "code",
   "execution_count": null,
   "metadata": {},
   "outputs": [],
   "source": [
    "fig, axs = plt.subplots(2, 1, figsize=(10, 10))\n",
    "axs[0].barh(list(results['R2'].keys()), list(results['R2'].values()), color='black')\n",
    "axs[0].set_xlabel('R-squared')\n",
    "axs[0].set_title('Model performance comparison (R-squared)')\n",
    "\n",
    "axs[1].barh(list(results['RMSE'].keys()), list(results['RMSE'].values()), color='black')\n",
    "axs[1].set_xlabel('RMSE')\n",
    "axs[1].set_title('Model performance comparison (RMSE)')\n",
    "\n",
    "plt.show()"
   ]
  },
  {
   "cell_type": "code",
   "execution_count": null,
   "metadata": {},
   "outputs": [],
   "source": []
  }
 ],
 "metadata": {
  "kernelspec": {
   "display_name": "Python 3",
   "language": "python",
   "name": "python3"
  },
  "language_info": {
   "codemirror_mode": {
    "name": "ipython",
    "version": 3
   },
   "file_extension": ".py",
   "mimetype": "text/x-python",
   "name": "python",
   "nbconvert_exporter": "python",
   "pygments_lexer": "ipython3",
   "version": "3.11.4"
  }
 },
 "nbformat": 4,
 "nbformat_minor": 2
}
